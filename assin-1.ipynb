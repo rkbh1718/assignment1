{
 "cells": [
  {
   "cell_type": "raw",
   "id": "5bfde6e1",
   "metadata": {},
   "source": [
    "1.\n",
    "* - expression\n",
    "'hello'  - string\n",
    "-87.8 - float\n",
    "-  - expression\n",
    "/  - expression\n",
    "+ - expression\n"
   ]
  },
  {
   "cell_type": "raw",
   "id": "8739aa32",
   "metadata": {},
   "source": [
    "2.\n",
    "string is immutable in nature, and it is noted in \"\" or ''\n",
    " Variable is used to store data ie we can say it works like a container. "
   ]
  },
  {
   "cell_type": "raw",
   "id": "4021f822",
   "metadata": {},
   "source": [
    "3. data types: \n",
    "\n",
    "1.list - it is collection which store the hetrogenius data in [], and it is mutable in nature.\n",
    "\n",
    "2.tuple -it is also the collection which store the hetrogenius data in (), and it is immutable in nature.\n",
    "\n",
    "3.set - it is unstructured data which is used to remove duplicate data from the set collection, syntax s={1,3,4,3,4,4,4}"
   ]
  },
  {
   "cell_type": "raw",
   "id": "d96c6b25",
   "metadata": {},
   "source": [
    "4. Expression is made up of constant, variables like exapmle. (a + b = 2) this is expression"
   ]
  },
  {
   "cell_type": "raw",
   "id": "c909f3b4",
   "metadata": {},
   "source": [
    "5. \n",
    "Expression is a combination of variables, operations and values that yields a result value\n",
    "\n",
    "Statements represent an action or command\n"
   ]
  },
  {
   "cell_type": "code",
   "execution_count": 1,
   "id": "c40727b4",
   "metadata": {},
   "outputs": [
    {
     "data": {
      "text/plain": [
       "23"
      ]
     },
     "execution_count": 1,
     "metadata": {},
     "output_type": "execute_result"
    }
   ],
   "source": [
    "#6\n",
    "bacon =22\n",
    "bacon +1"
   ]
  },
  {
   "cell_type": "code",
   "execution_count": 2,
   "id": "638f06d2",
   "metadata": {},
   "outputs": [
    {
     "data": {
      "text/plain": [
       "'spamspamspam'"
      ]
     },
     "execution_count": 2,
     "metadata": {},
     "output_type": "execute_result"
    }
   ],
   "source": [
    "#7\n",
    "'spam'+'spamspam'\n",
    "'spam' * 3"
   ]
  },
  {
   "cell_type": "raw",
   "id": "43720a65",
   "metadata": {},
   "source": [
    "8.\n",
    "according to programming concept, variable is like some basic creatria to full fill like it must not be start with any numric value."
   ]
  },
  {
   "cell_type": "raw",
   "id": "c41e5d61",
   "metadata": {},
   "source": [
    "9.\n",
    "int()\n",
    "str()\n",
    "float()\n"
   ]
  },
  {
   "cell_type": "code",
   "execution_count": 3,
   "id": "ac5fe931",
   "metadata": {},
   "outputs": [
    {
     "ename": "TypeError",
     "evalue": "can only concatenate str (not \"int\") to str",
     "output_type": "error",
     "traceback": [
      "\u001b[1;31m---------------------------------------------------------------------------\u001b[0m",
      "\u001b[1;31mTypeError\u001b[0m                                 Traceback (most recent call last)",
      "\u001b[1;32m<ipython-input-3-9c4a514f91c7>\u001b[0m in \u001b[0;36m<module>\u001b[1;34m\u001b[0m\n\u001b[0;32m      1\u001b[0m \u001b[1;31m# 10\u001b[0m\u001b[1;33m\u001b[0m\u001b[1;33m\u001b[0m\u001b[1;33m\u001b[0m\u001b[0m\n\u001b[1;32m----> 2\u001b[1;33m \u001b[1;34m'i have eaten'\u001b[0m \u001b[1;33m+\u001b[0m\u001b[1;36m99\u001b[0m \u001b[1;33m+\u001b[0m \u001b[1;34m'burritos'\u001b[0m\u001b[1;33m\u001b[0m\u001b[1;33m\u001b[0m\u001b[0m\n\u001b[0m",
      "\u001b[1;31mTypeError\u001b[0m: can only concatenate str (not \"int\") to str"
     ]
    }
   ],
   "source": [
    "# 10\n",
    "'i have eaten' +99 + 'burritos'"
   ]
  },
  {
   "cell_type": "code",
   "execution_count": 5,
   "id": "6f079513",
   "metadata": {},
   "outputs": [
    {
     "data": {
      "text/plain": [
       "'i have eaten 99 burritos'"
      ]
     },
     "execution_count": 5,
     "metadata": {},
     "output_type": "execute_result"
    }
   ],
   "source": [
    "'i have eaten' + ' 99 ' + 'burritos'"
   ]
  },
  {
   "cell_type": "code",
   "execution_count": null,
   "id": "dde441ef",
   "metadata": {},
   "outputs": [],
   "source": []
  }
 ],
 "metadata": {
  "kernelspec": {
   "display_name": "Python 3",
   "language": "python",
   "name": "python3"
  },
  "language_info": {
   "codemirror_mode": {
    "name": "ipython",
    "version": 3
   },
   "file_extension": ".py",
   "mimetype": "text/x-python",
   "name": "python",
   "nbconvert_exporter": "python",
   "pygments_lexer": "ipython3",
   "version": "3.8.8"
  }
 },
 "nbformat": 4,
 "nbformat_minor": 5
}
